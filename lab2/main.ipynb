{
 "cells": [
  {
   "cell_type": "code",
   "execution_count": 1,
   "metadata": {},
   "outputs": [],
   "source": [
    "import pandas\n",
    "import numpy as np\n",
    "import matplotlib.pyplot as plt\n",
    "from typing import List, Tuple, Dict\n",
    "import math\n",
    "import scipy.stats as st\n",
    "import seaborn as sns"
   ]
  },
  {
   "cell_type": "code",
   "execution_count": 2,
   "metadata": {},
   "outputs": [],
   "source": [
    "data_frame = pandas.read_csv(\"data_packed.csv\")"
   ]
  },
  {
   "cell_type": "code",
   "execution_count": 3,
   "metadata": {},
   "outputs": [],
   "source": [
    "# for learning purposes malform one data column\n",
    "# data_frame[\"Solidity\"] += np.array(np.random.chisquare(5, (30,)))\n",
    "# data_frame[\"Solidity\"] /= data_frame[\"Solidity\"].max()\n",
    "# data_frame.to_csv(\"data_packed.csv\")"
   ]
  },
  {
   "cell_type": "code",
   "execution_count": 4,
   "metadata": {},
   "outputs": [
    {
     "data": {
      "text/html": [
       "<div>\n",
       "<style scoped>\n",
       "    .dataframe tbody tr th:only-of-type {\n",
       "        vertical-align: middle;\n",
       "    }\n",
       "\n",
       "    .dataframe tbody tr th {\n",
       "        vertical-align: top;\n",
       "    }\n",
       "\n",
       "    .dataframe thead th {\n",
       "        text-align: right;\n",
       "    }\n",
       "</style>\n",
       "<table border=\"1\" class=\"dataframe\">\n",
       "  <thead>\n",
       "    <tr style=\"text-align: right;\">\n",
       "      <th></th>\n",
       "      <th>Area</th>\n",
       "      <th>Perimeter</th>\n",
       "      <th>Major_Axis_Length</th>\n",
       "      <th>Minor_Axis_Length</th>\n",
       "      <th>Solidity</th>\n",
       "      <th>Roundness</th>\n",
       "    </tr>\n",
       "  </thead>\n",
       "  <tbody>\n",
       "    <tr>\n",
       "      <th>0</th>\n",
       "      <td>56276.0</td>\n",
       "      <td>888.242</td>\n",
       "      <td>326.1485</td>\n",
       "      <td>220.2388</td>\n",
       "      <td>0.534473</td>\n",
       "      <td>0.8963</td>\n",
       "    </tr>\n",
       "    <tr>\n",
       "      <th>1</th>\n",
       "      <td>76631.0</td>\n",
       "      <td>1068.146</td>\n",
       "      <td>417.1932</td>\n",
       "      <td>234.2289</td>\n",
       "      <td>0.543122</td>\n",
       "      <td>0.8440</td>\n",
       "    </tr>\n",
       "    <tr>\n",
       "      <th>2</th>\n",
       "      <td>71623.0</td>\n",
       "      <td>1082.987</td>\n",
       "      <td>435.8328</td>\n",
       "      <td>211.0457</td>\n",
       "      <td>0.171792</td>\n",
       "      <td>0.7674</td>\n",
       "    </tr>\n",
       "    <tr>\n",
       "      <th>3</th>\n",
       "      <td>66458.0</td>\n",
       "      <td>992.051</td>\n",
       "      <td>381.5638</td>\n",
       "      <td>222.5322</td>\n",
       "      <td>0.886556</td>\n",
       "      <td>0.8486</td>\n",
       "    </tr>\n",
       "    <tr>\n",
       "      <th>4</th>\n",
       "      <td>66107.0</td>\n",
       "      <td>998.146</td>\n",
       "      <td>383.8883</td>\n",
       "      <td>220.4545</td>\n",
       "      <td>0.528369</td>\n",
       "      <td>0.8338</td>\n",
       "    </tr>\n",
       "    <tr>\n",
       "      <th>5</th>\n",
       "      <td>73191.0</td>\n",
       "      <td>1041.460</td>\n",
       "      <td>405.8132</td>\n",
       "      <td>231.4261</td>\n",
       "      <td>0.806201</td>\n",
       "      <td>0.8480</td>\n",
       "    </tr>\n",
       "    <tr>\n",
       "      <th>6</th>\n",
       "      <td>73338.0</td>\n",
       "      <td>1020.055</td>\n",
       "      <td>392.2516</td>\n",
       "      <td>238.5494</td>\n",
       "      <td>0.273458</td>\n",
       "      <td>0.8857</td>\n",
       "    </tr>\n",
       "    <tr>\n",
       "      <th>7</th>\n",
       "      <td>69692.0</td>\n",
       "      <td>1049.108</td>\n",
       "      <td>421.4875</td>\n",
       "      <td>211.7707</td>\n",
       "      <td>1.000000</td>\n",
       "      <td>0.7957</td>\n",
       "    </tr>\n",
       "    <tr>\n",
       "      <th>8</th>\n",
       "      <td>95727.0</td>\n",
       "      <td>1231.609</td>\n",
       "      <td>488.1199</td>\n",
       "      <td>251.3086</td>\n",
       "      <td>0.807301</td>\n",
       "      <td>0.7930</td>\n",
       "    </tr>\n",
       "    <tr>\n",
       "      <th>9</th>\n",
       "      <td>73465.0</td>\n",
       "      <td>1047.767</td>\n",
       "      <td>413.6504</td>\n",
       "      <td>227.2644</td>\n",
       "      <td>0.901012</td>\n",
       "      <td>0.8409</td>\n",
       "    </tr>\n",
       "    <tr>\n",
       "      <th>10</th>\n",
       "      <td>83429.0</td>\n",
       "      <td>1114.561</td>\n",
       "      <td>438.5827</td>\n",
       "      <td>242.8826</td>\n",
       "      <td>0.333789</td>\n",
       "      <td>0.8440</td>\n",
       "    </tr>\n",
       "    <tr>\n",
       "      <th>11</th>\n",
       "      <td>85461.0</td>\n",
       "      <td>1136.125</td>\n",
       "      <td>446.2935</td>\n",
       "      <td>245.1551</td>\n",
       "      <td>0.224768</td>\n",
       "      <td>0.8320</td>\n",
       "    </tr>\n",
       "    <tr>\n",
       "      <th>12</th>\n",
       "      <td>71393.0</td>\n",
       "      <td>1096.533</td>\n",
       "      <td>459.2091</td>\n",
       "      <td>199.1305</td>\n",
       "      <td>0.498099</td>\n",
       "      <td>0.7461</td>\n",
       "    </tr>\n",
       "    <tr>\n",
       "      <th>13</th>\n",
       "      <td>80151.0</td>\n",
       "      <td>1088.349</td>\n",
       "      <td>420.8842</td>\n",
       "      <td>244.2649</td>\n",
       "      <td>0.595166</td>\n",
       "      <td>0.8503</td>\n",
       "    </tr>\n",
       "    <tr>\n",
       "      <th>14</th>\n",
       "      <td>68078.0</td>\n",
       "      <td>1016.821</td>\n",
       "      <td>403.0626</td>\n",
       "      <td>215.6027</td>\n",
       "      <td>0.471290</td>\n",
       "      <td>0.8274</td>\n",
       "    </tr>\n",
       "    <tr>\n",
       "      <th>15</th>\n",
       "      <td>57934.0</td>\n",
       "      <td>933.357</td>\n",
       "      <td>368.7807</td>\n",
       "      <td>201.2084</td>\n",
       "      <td>0.247378</td>\n",
       "      <td>0.8357</td>\n",
       "    </tr>\n",
       "    <tr>\n",
       "      <th>16</th>\n",
       "      <td>61138.0</td>\n",
       "      <td>953.256</td>\n",
       "      <td>371.2713</td>\n",
       "      <td>211.3706</td>\n",
       "      <td>0.190467</td>\n",
       "      <td>0.8455</td>\n",
       "    </tr>\n",
       "    <tr>\n",
       "      <th>17</th>\n",
       "      <td>61519.0</td>\n",
       "      <td>964.694</td>\n",
       "      <td>382.1808</td>\n",
       "      <td>205.6436</td>\n",
       "      <td>0.874008</td>\n",
       "      <td>0.8307</td>\n",
       "    </tr>\n",
       "    <tr>\n",
       "      <th>18</th>\n",
       "      <td>76073.0</td>\n",
       "      <td>1064.233</td>\n",
       "      <td>430.7576</td>\n",
       "      <td>225.3286</td>\n",
       "      <td>0.129824</td>\n",
       "      <td>0.8440</td>\n",
       "    </tr>\n",
       "    <tr>\n",
       "      <th>19</th>\n",
       "      <td>56882.0</td>\n",
       "      <td>926.303</td>\n",
       "      <td>368.0150</td>\n",
       "      <td>197.4554</td>\n",
       "      <td>0.591822</td>\n",
       "      <td>0.8331</td>\n",
       "    </tr>\n",
       "    <tr>\n",
       "      <th>20</th>\n",
       "      <td>69350.0</td>\n",
       "      <td>1037.403</td>\n",
       "      <td>418.2706</td>\n",
       "      <td>211.9446</td>\n",
       "      <td>0.394015</td>\n",
       "      <td>0.8098</td>\n",
       "    </tr>\n",
       "    <tr>\n",
       "      <th>21</th>\n",
       "      <td>82196.0</td>\n",
       "      <td>1141.067</td>\n",
       "      <td>466.2324</td>\n",
       "      <td>225.8543</td>\n",
       "      <td>0.580855</td>\n",
       "      <td>0.7933</td>\n",
       "    </tr>\n",
       "    <tr>\n",
       "      <th>22</th>\n",
       "      <td>62165.0</td>\n",
       "      <td>936.716</td>\n",
       "      <td>356.8281</td>\n",
       "      <td>222.3935</td>\n",
       "      <td>0.241014</td>\n",
       "      <td>0.8903</td>\n",
       "    </tr>\n",
       "    <tr>\n",
       "      <th>23</th>\n",
       "      <td>85913.0</td>\n",
       "      <td>1120.778</td>\n",
       "      <td>435.7355</td>\n",
       "      <td>251.4643</td>\n",
       "      <td>0.160959</td>\n",
       "      <td>0.8595</td>\n",
       "    </tr>\n",
       "    <tr>\n",
       "      <th>24</th>\n",
       "      <td>68683.0</td>\n",
       "      <td>1021.570</td>\n",
       "      <td>409.8300</td>\n",
       "      <td>214.3968</td>\n",
       "      <td>0.157325</td>\n",
       "      <td>0.8270</td>\n",
       "    </tr>\n",
       "    <tr>\n",
       "      <th>25</th>\n",
       "      <td>61215.0</td>\n",
       "      <td>951.511</td>\n",
       "      <td>369.4055</td>\n",
       "      <td>212.7202</td>\n",
       "      <td>0.355853</td>\n",
       "      <td>0.8497</td>\n",
       "    </tr>\n",
       "    <tr>\n",
       "      <th>26</th>\n",
       "      <td>72713.0</td>\n",
       "      <td>1039.375</td>\n",
       "      <td>401.8137</td>\n",
       "      <td>231.1989</td>\n",
       "      <td>0.291105</td>\n",
       "      <td>0.8458</td>\n",
       "    </tr>\n",
       "    <tr>\n",
       "      <th>27</th>\n",
       "      <td>58684.0</td>\n",
       "      <td>917.482</td>\n",
       "      <td>355.8436</td>\n",
       "      <td>210.4503</td>\n",
       "      <td>0.121618</td>\n",
       "      <td>0.8761</td>\n",
       "    </tr>\n",
       "    <tr>\n",
       "      <th>28</th>\n",
       "      <td>59652.0</td>\n",
       "      <td>932.197</td>\n",
       "      <td>359.1674</td>\n",
       "      <td>213.7165</td>\n",
       "      <td>0.351524</td>\n",
       "      <td>0.8626</td>\n",
       "    </tr>\n",
       "    <tr>\n",
       "      <th>29</th>\n",
       "      <td>89091.0</td>\n",
       "      <td>1138.972</td>\n",
       "      <td>443.7180</td>\n",
       "      <td>256.1033</td>\n",
       "      <td>0.785314</td>\n",
       "      <td>0.8630</td>\n",
       "    </tr>\n",
       "  </tbody>\n",
       "</table>\n",
       "</div>"
      ],
      "text/plain": [
       "       Area  Perimeter  Major_Axis_Length  Minor_Axis_Length  Solidity  \\\n",
       "0   56276.0    888.242           326.1485           220.2388  0.534473   \n",
       "1   76631.0   1068.146           417.1932           234.2289  0.543122   \n",
       "2   71623.0   1082.987           435.8328           211.0457  0.171792   \n",
       "3   66458.0    992.051           381.5638           222.5322  0.886556   \n",
       "4   66107.0    998.146           383.8883           220.4545  0.528369   \n",
       "5   73191.0   1041.460           405.8132           231.4261  0.806201   \n",
       "6   73338.0   1020.055           392.2516           238.5494  0.273458   \n",
       "7   69692.0   1049.108           421.4875           211.7707  1.000000   \n",
       "8   95727.0   1231.609           488.1199           251.3086  0.807301   \n",
       "9   73465.0   1047.767           413.6504           227.2644  0.901012   \n",
       "10  83429.0   1114.561           438.5827           242.8826  0.333789   \n",
       "11  85461.0   1136.125           446.2935           245.1551  0.224768   \n",
       "12  71393.0   1096.533           459.2091           199.1305  0.498099   \n",
       "13  80151.0   1088.349           420.8842           244.2649  0.595166   \n",
       "14  68078.0   1016.821           403.0626           215.6027  0.471290   \n",
       "15  57934.0    933.357           368.7807           201.2084  0.247378   \n",
       "16  61138.0    953.256           371.2713           211.3706  0.190467   \n",
       "17  61519.0    964.694           382.1808           205.6436  0.874008   \n",
       "18  76073.0   1064.233           430.7576           225.3286  0.129824   \n",
       "19  56882.0    926.303           368.0150           197.4554  0.591822   \n",
       "20  69350.0   1037.403           418.2706           211.9446  0.394015   \n",
       "21  82196.0   1141.067           466.2324           225.8543  0.580855   \n",
       "22  62165.0    936.716           356.8281           222.3935  0.241014   \n",
       "23  85913.0   1120.778           435.7355           251.4643  0.160959   \n",
       "24  68683.0   1021.570           409.8300           214.3968  0.157325   \n",
       "25  61215.0    951.511           369.4055           212.7202  0.355853   \n",
       "26  72713.0   1039.375           401.8137           231.1989  0.291105   \n",
       "27  58684.0    917.482           355.8436           210.4503  0.121618   \n",
       "28  59652.0    932.197           359.1674           213.7165  0.351524   \n",
       "29  89091.0   1138.972           443.7180           256.1033  0.785314   \n",
       "\n",
       "    Roundness  \n",
       "0      0.8963  \n",
       "1      0.8440  \n",
       "2      0.7674  \n",
       "3      0.8486  \n",
       "4      0.8338  \n",
       "5      0.8480  \n",
       "6      0.8857  \n",
       "7      0.7957  \n",
       "8      0.7930  \n",
       "9      0.8409  \n",
       "10     0.8440  \n",
       "11     0.8320  \n",
       "12     0.7461  \n",
       "13     0.8503  \n",
       "14     0.8274  \n",
       "15     0.8357  \n",
       "16     0.8455  \n",
       "17     0.8307  \n",
       "18     0.8440  \n",
       "19     0.8331  \n",
       "20     0.8098  \n",
       "21     0.7933  \n",
       "22     0.8903  \n",
       "23     0.8595  \n",
       "24     0.8270  \n",
       "25     0.8497  \n",
       "26     0.8458  \n",
       "27     0.8761  \n",
       "28     0.8626  \n",
       "29     0.8630  "
      ]
     },
     "execution_count": 4,
     "metadata": {},
     "output_type": "execute_result"
    }
   ],
   "source": [
    "data_frame"
   ]
  },
  {
   "cell_type": "code",
   "execution_count": 5,
   "metadata": {},
   "outputs": [],
   "source": [
    "def bucketize(\n",
    "    data: List[float], explicit_bucket_count: int = None\n",
    ") -> Tuple[List[str], List[float]]:\n",
    "    \"\"\"Classifies given data into len(data) // 4 + 1 categories,\n",
    "    returns list of category range labels and list of list of values in\n",
    "    categories.\n",
    "    \"\"\"\n",
    "    max_val = max(data) * 1.1\n",
    "    min_val = min(data) * 0.9\n",
    "    if explicit_bucket_count is None:\n",
    "        bucket_count: int = len(data) // 4 - 1\n",
    "    else:\n",
    "        bucket_count = explicit_bucket_count\n",
    "    span: float = abs(max_val - min_val)\n",
    "    bucket_size: float = span / bucket_count\n",
    "    buckets: Dict[Tuple[float, float], List[float]] = {}\n",
    "\n",
    "    for i in range(bucket_count):\n",
    "        bucket_min = min_val + i * bucket_size\n",
    "        bucket_max = min_val + (i + 1) * bucket_size\n",
    "        buckets[bucket_min, bucket_max] = []\n",
    "    else:\n",
    "        last_bucket = buckets[bucket_min, bucket_max]\n",
    "\n",
    "    for value in data:\n",
    "        # small faux-pass here: order is not guaranteed on every runtime environment\n",
    "        # however with CPython 3.6+ dictionary impl keeps order of insertions.\n",
    "        # MAY be a problem with Jython or PyPy or older CPython versions\n",
    "        # Btw see https://www.hyrumslaw.com/\n",
    "        for (bucket_min, bucket_max), bucket in buckets.items():\n",
    "            if bucket_min <= value <= bucket_max:\n",
    "                bucket.append(value)\n",
    "                break\n",
    "        else:\n",
    "            last_bucket.append(value)\n",
    "\n",
    "    return list(buckets.keys()), list(buckets.values())\n",
    "\n",
    "\n",
    "def draw_bucketized(column, column_tag, bucket_count=None):\n",
    "    labels, values = bucketize(column, bucket_count)\n",
    "    bar_width = (labels[0][1] - labels[0][0]) * 0.7\n",
    "    center_labels = [sum(l) / 2 for l in labels]\n",
    "\n",
    "    plt.figure(figsize=(12, 6), dpi=100)\n",
    "    plt.bar(\n",
    "        center_labels,\n",
    "        height=[len(v) for v in values],\n",
    "        width=bar_width,\n",
    "        color=\"gray\",\n",
    "    )\n",
    "    kde = st.gaussian_kde(column)\n",
    "    plt.axvline(np.mean(column), c=\"r\")\n",
    "    plt.axvline(np.median(column), c=\"y\")\n",
    "    plt.axvline(np.quantile(0.25), c=\"g\")\n",
    "    plt.axvline(np.quantile(0.75), c=\"g\")\n",
    "    plt.xticks(\n",
    "        center_labels,\n",
    "        [f\"<{round(l[0], 3)}; {round(l[1], 3)})\" for l in labels],\n",
    "    )\n",
    "    plt.title(column_tag)\n"
   ]
  },
  {
   "cell_type": "code",
   "execution_count": 6,
   "metadata": {},
   "outputs": [],
   "source": [
    "def draw_bucketized(data, col):\n",
    "    n, bins = np.histogram(data, bins=len(data) // 4)\n",
    "\n",
    "    bins_rounded = []\n",
    "    for value in bins:\n",
    "        bins_rounded.append(round(value, 2))\n",
    "\n",
    "    sns.histplot(data, bins=bins_rounded, kde=True)\n",
    "    plt.axvline(np.mean(column), c=\"r\")\n",
    "    plt.axvline(np.median(column), c=\"y\")\n",
    "    plt.axvline(np.quantile(column, 0.25), c=\"g\")\n",
    "    plt.axvline(np.quantile(column, 0.75), c=\"g\")\n",
    "    plt.title(f\"{col}\")\n",
    "    plt.xticks(bins_rounded)"
   ]
  },
  {
   "cell_type": "code",
   "execution_count": 17,
   "metadata": {},
   "outputs": [],
   "source": [
    "A_TABLE = [\n",
    "    0.4254,\n",
    "    0.2944,\n",
    "    0.2487,\n",
    "    0.2148,\n",
    "    0.187,\n",
    "    0.163,\n",
    "    0.1415,\n",
    "    0.1219,\n",
    "    0.1036,\n",
    "    0.0862,\n",
    "    0.0697,\n",
    "    0.0537,\n",
    "    0.0381,\n",
    "    0.0227,\n",
    "    0.0076,\n",
    "]\n",
    "\n",
    "\n",
    "def is_normal_dist(data_column):\n",
    "    mean = data_column.mean()\n",
    "    data_list = data_column.tolist()\n",
    "    S_sq = sum((x - mean) ** 2 for x in data_list)\n",
    "    m = math.floor(len(data_list) / 2)\n",
    "    b = sum(A_TABLE[i] * (data_list[-1 - i] - data_list[i]) for i in range(m))\n",
    "    W = b**2 / S_sq\n",
    "    print(b, b**2, S_sq, W)\n",
    "    return W > 0.927\n"
   ]
  },
  {
   "cell_type": "code",
   "execution_count": 18,
   "metadata": {},
   "outputs": [
    {
     "name": "stdout",
     "output_type": "stream",
     "text": [
      "count       30.000000\n",
      "mean     71140.933333\n",
      "std      10341.786846\n",
      "min      56276.000000\n",
      "25%      61680.500000\n",
      "50%      70542.500000\n",
      "75%      76491.500000\n",
      "max      95727.000000\n",
      "Name: Area, dtype: float64\n",
      "54422.51189999999 2961809801.5056405 3101624099.8666673 0.9549222298191979\n",
      "Is normal distribution: True\n",
      "count      30.000000\n",
      "mean     1031.695800\n",
      "std        82.184507\n",
      "min       888.242000\n",
      "25%       956.115500\n",
      "50%      1038.389000\n",
      "75%      1087.008500\n",
      "max      1231.609000\n",
      "Name: Perimeter, dtype: float64\n",
      "436.28810919999995 190347.31422931107 195874.5036928 0.9717819861223107\n",
      "Is normal distribution: True\n",
      "count     30.000000\n",
      "mean     405.727717\n",
      "std       37.715417\n",
      "min      326.148500\n",
      "25%      373.844425\n",
      "50%      407.821600\n",
      "75%      434.491025\n",
      "max      488.119900\n",
      "Name: Major_Axis_Length, dtype: float64\n",
      "201.68715262999993 40677.70753599689 41251.127274441664 0.9860992953082265\n",
      "Is normal distribution: True\n",
      "count     30.000000\n",
      "mean     223.570147\n",
      "std       16.179514\n",
      "min      197.455400\n",
      "25%      211.814175\n",
      "50%      221.424000\n",
      "75%      233.528200\n",
      "max      256.103300\n",
      "Name: Minor_Axis_Length, dtype: float64\n",
      "85.00713409000001 7226.212846195242 7591.523099394666 0.9518791883504176\n",
      "Is normal distribution: True\n",
      "count    30.000000\n",
      "mean      0.468283\n",
      "std       0.267016\n",
      "min       0.121618\n",
      "25%       0.242605\n",
      "50%       0.432653\n",
      "75%       0.594330\n",
      "max       1.000000\n",
      "Name: Solidity, dtype: float64\n",
      "1.3779951316825072 1.8988705829406904 2.067634026062847 0.9183784746261344\n",
      "Is normal distribution: False\n",
      "count    30.000000\n",
      "mean      0.837310\n",
      "std       0.033569\n",
      "min       0.746100\n",
      "25%       0.828225\n",
      "50%       0.844000\n",
      "75%       0.850150\n",
      "max       0.896300\n",
      "Name: Roundness, dtype: float64\n",
      "0.17502453000000004 0.030633586101720914 0.03268042700000002 0.9373679879311521\n",
      "Is normal distribution: True\n"
     ]
    }
   ],
   "source": [
    "not_sane_column_tags = []\n",
    "\n",
    "for col in data_frame.columns:\n",
    "    column = data_frame[col].sort_values()\n",
    "    print(column.describe())\n",
    "    is_norm = is_normal_dist(column)\n",
    "    print(\"Is normal distribution:\", is_norm)\n",
    "    if is_norm:\n",
    "        continue\n",
    "    not_sane_column_tags.append(col)\n"
   ]
  },
  {
   "cell_type": "code",
   "execution_count": 9,
   "metadata": {},
   "outputs": [
    {
     "data": {
      "image/png": "[encoded data removed]",
      "text/plain": [
       "<Figure size 432x288 with 1 Axes>"
      ]
     },
     "metadata": {
      "needs_background": "light"
     },
     "output_type": "display_data"
    },
    {
     "data": {
      "image/png": "[encoded data removed]",
      "text/plain": [
       "<Figure size 432x288 with 1 Axes>"
      ]
     },
     "metadata": {
      "needs_background": "light"
     },
     "output_type": "display_data"
    }
   ],
   "source": [
    "df_cp = data_frame.copy(True)\n",
    "\n",
    "for tag in not_sane_column_tags:\n",
    "    column = df_cp[tag].sort_values()\n",
    "    draw_bucketized(column, tag)\n",
    "    plt.show()\n",
    "    if tag == \"Solidity\":\n",
    "        column = np.array([np.log10(x * 0.5) for x in column])  # 2\n",
    "    draw_bucketized(column, tag)\n",
    "    plt.show()\n",
    "\n",
    "    df_cp[tag] = column\n",
    "    df_cp.rename({tag: tag + \"*\"})\n"
   ]
  },
  {
   "cell_type": "markdown",
   "metadata": {},
   "source": [
    "- nie jest wielomodalny\n",
    "- zbliżony do symetrycznego -> zmienną zostawiamy w spokoju\n",
    "- jedno modalny, już nie skośny\n",
    "- bral punktu odbiegającego"
   ]
  },
  {
   "cell_type": "code",
   "execution_count": 10,
   "metadata": {},
   "outputs": [],
   "source": [
    "df_cp.to_csv(\"post_proc_data.csv\")"
   ]
  },
  {
   "cell_type": "code",
   "execution_count": 11,
   "metadata": {},
   "outputs": [],
   "source": [
    "stats_df = []\n",
    "\n",
    "for tag in df_cp.columns:\n",
    "    column = df_cp[tag]\n",
    "    stats_df.append(\n",
    "        [\n",
    "            tag,\n",
    "            column.quantile(0.25),\n",
    "            column.quantile(0.75),\n",
    "        ]\n",
    "    )\n",
    "\n",
    "stats_df = pandas.DataFrame(stats_df, columns=[\"Var\", \"Q1\", \"Q3\"])\n"
   ]
  },
  {
   "cell_type": "code",
   "execution_count": 12,
   "metadata": {},
   "outputs": [],
   "source": [
    "def cor(x: np.array, y: np.array) -> float:\n",
    "    x_mean = x.mean()\n",
    "    y_mean = y.mean()\n",
    "    return sum(\n",
    "        (x_i - x_mean) * (y_i - y_mean) for x_i, y_i in zip(x, y)\n",
    "    ) / np.sqrt(\n",
    "        sum((x_i - x_mean) ** 2 for x_i in x)\n",
    "        * sum((y_i - y_mean) ** 2 for y_i in y)\n",
    "    )\n",
    "\n",
    "\n",
    "N = len(df_cp.columns)\n",
    "\n",
    "cor_matrix = np.zeros((N, N))\n",
    "\n",
    "for i in range(N):\n",
    "    for j in range(N):\n",
    "        cor_matrix[i, j] = cor(df_cp.iloc[:,i], df_cp.iloc[:,j])\n"
   ]
  },
  {
   "cell_type": "code",
   "execution_count": 13,
   "metadata": {},
   "outputs": [
    {
     "name": "stdout",
     "output_type": "stream",
     "text": [
      " 1.000  0.966  0.888  0.839 -0.067 -0.254 \n",
      " 0.966  1.000  0.972  0.679 -0.108 -0.495 \n",
      " 0.888  0.972  1.000  0.499 -0.056 -0.649 \n",
      " 0.839  0.679  0.499  1.000 -0.086  0.284 \n",
      "-0.067 -0.108 -0.056 -0.086  1.000  0.140 \n",
      "-0.254 -0.495 -0.649  0.284  0.140  1.000 \n"
     ]
    }
   ],
   "source": [
    "for c in cor_matrix:\n",
    "    for r in c:\n",
    "        print(f\"{r:> 4.3f} \", end=\"\")\n",
    "    print()"
   ]
  },
  {
   "cell_type": "code",
   "execution_count": 14,
   "metadata": {},
   "outputs": [
    {
     "data": {
      "text/plain": [
       "<AxesSubplot:>"
      ]
     },
     "execution_count": 14,
     "metadata": {},
     "output_type": "execute_result"
    },
    {
     "data": {
      "image/png": "[encoded data removed]",
      "text/plain": [
       "<Figure size 432x288 with 2 Axes>"
      ]
     },
     "metadata": {
      "needs_background": "light"
     },
     "output_type": "display_data"
    }
   ],
   "source": [
    "import seaborn as sns\n",
    "\n",
    "sns.heatmap(cor_matrix)"
   ]
  },
  {
   "cell_type": "code",
   "execution_count": 15,
   "metadata": {},
   "outputs": [],
   "source": [
    "stats_df.to_excel(\"data.xlsx\")"
   ]
  },
  {
   "cell_type": "code",
   "execution_count": 16,
   "metadata": {},
   "outputs": [
    {
     "data": {
      "image/png": "[encoded data removed]",
      "text/plain": [
       "<Figure size 432x288 with 1 Axes>"
      ]
     },
     "metadata": {
      "needs_background": "light"
     },
     "output_type": "display_data"
    },
    {
     "data": {
      "image/png": "[encoded data removed]",
      "text/plain": [
       "<Figure size 432x288 with 1 Axes>"
      ]
     },
     "metadata": {
      "needs_background": "light"
     },
     "output_type": "display_data"
    },
    {
     "data": {
      "image/png": "[encoded data removed]",
      "text/plain": [
       "<Figure size 432x288 with 1 Axes>"
      ]
     },
     "metadata": {
      "needs_background": "light"
     },
     "output_type": "display_data"
    },
    {
     "data": {
      "image/png": "[encoded data removed]",
      "text/plain": [
       "<Figure size 432x288 with 1 Axes>"
      ]
     },
     "metadata": {
      "needs_background": "light"
     },
     "output_type": "display_data"
    },
    {
     "data": {
      "image/png": "[encoded data removed]",
      "text/plain": [
       "<Figure size 432x288 with 1 Axes>"
      ]
     },
     "metadata": {
      "needs_background": "light"
     },
     "output_type": "display_data"
    },
    {
     "data": {
      "image/png": "[encoded data removed]",
      "text/plain": [
       "<Figure size 432x288 with 1 Axes>"
      ]
     },
     "metadata": {
      "needs_background": "light"
     },
     "output_type": "display_data"
    },
    {
     "data": {
      "image/png": "[encoded data removed]",
      "text/plain": [
       "<Figure size 432x288 with 1 Axes>"
      ]
     },
     "metadata": {
      "needs_background": "light"
     },
     "output_type": "display_data"
    },
    {
     "data": {
      "image/png": "[encoded data removed]",
      "text/plain": [
       "<Figure size 432x288 with 1 Axes>"
      ]
     },
     "metadata": {
      "needs_background": "light"
     },
     "output_type": "display_data"
    },
    {
     "data": {
      "image/png": "[encoded data removed]",
      "text/plain": [
       "<Figure size 432x288 with 1 Axes>"
      ]
     },
     "metadata": {
      "needs_background": "light"
     },
     "output_type": "display_data"
    },
    {
     "data": {
      "image/png": "[encoded data removed]",
      "text/plain": [
       "<Figure size 432x288 with 1 Axes>"
      ]
     },
     "metadata": {
      "needs_background": "light"
     },
     "output_type": "display_data"
    },
    {
     "data": {
      "image/png": "[encoded data removed]",
      "text/plain": [
       "<Figure size 432x288 with 1 Axes>"
      ]
     },
     "metadata": {
      "needs_background": "light"
     },
     "output_type": "display_data"
    },
    {
     "data": {
      "image/png": "[encoded data removed]",
      "text/plain": [
       "<Figure size 432x288 with 1 Axes>"
      ]
     },
     "metadata": {
      "needs_background": "light"
     },
     "output_type": "display_data"
    },
    {
     "data": {
      "image/png": "[encoded data removed]",
      "text/plain": [
       "<Figure size 432x288 with 1 Axes>"
      ]
     },
     "metadata": {
      "needs_background": "light"
     },
     "output_type": "display_data"
    },
    {
     "data": {
      "image/png": "[encoded data removed]",
      "text/plain": [
       "<Figure size 432x288 with 1 Axes>"
      ]
     },
     "metadata": {
      "needs_background": "light"
     },
     "output_type": "display_data"
    },
    {
     "data": {
      "image/png": "[encoded data removed]",
      "text/plain": [
       "<Figure size 432x288 with 1 Axes>"
      ]
     },
     "metadata": {
      "needs_background": "light"
     },
     "output_type": "display_data"
    }
   ],
   "source": [
    "N = len(df_cp.columns)\n",
    "\n",
    "for i in range(N):\n",
    "    for j in range(N):\n",
    "        if i > j:\n",
    "            plt.title(f\"{i} - {j}\")\n",
    "            plt.scatter(df_cp.iloc[:, i], df_cp.iloc[:, j])\n",
    "            plt.show()\n",
    "        else:\n",
    "            break"
   ]
  }
 ],
 "metadata": {
  "interpreter": {
   "hash": "3cbd5d59486c7fd06e7db40b95aa37d262a88599118e57e5160448c28802f662"
  },
  "kernelspec": {
   "display_name": "Python 3.9.12 ('.env': venv)",
   "language": "python",
   "name": "python3"
  },
  "language_info": {
   "codemirror_mode": {
    "name": "ipython",
    "version": 3
   },
   "file_extension": ".py",
   "mimetype": "text/x-python",
   "name": "python",
   "nbconvert_exporter": "python",
   "pygments_lexer": "ipython3",
   "version": "3.9.12"
  },
  "orig_nbformat": 4
 },
 "nbformat": 4,
 "nbformat_minor": 2
}
