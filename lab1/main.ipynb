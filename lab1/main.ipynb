{
 "cells": [
  {
   "cell_type": "code",
   "execution_count": 1,
   "metadata": {},
   "outputs": [],
   "source": [
    "from pathlib import Path\n",
    "import matplotlib\n",
    "import numpy as np\n",
    "import pandas\n",
    "import scipy.stats as st\n",
    "from matplotlib import pyplot as plt"
   ]
  },
  {
   "cell_type": "code",
   "execution_count": 3,
   "metadata": {},
   "outputs": [
    {
     "name": "stderr",
     "output_type": "stream",
     "text": [
      "/home/argmaster/Documents/dev/2022/sem2/tedw/.env/lib/python3.9/site-packages/openpyxl/worksheet/_reader.py:312: UserWarning: Unknown extension is not supported and will be removed\n",
      "  warn(msg)\n"
     ]
    }
   ],
   "source": [
    "data = pandas.read_excel(\"dane_2020-2021.xlsx\")\n",
    "column_tag_list = [f\"X{i}\" for i in range(1, 11)]"
   ]
  },
  {
   "cell_type": "code",
   "execution_count": 8,
   "metadata": {},
   "outputs": [
    {
     "data": {
      "image/png": "[encoded data removed]",
      "text/plain": [
       "<Figure size 432x288 with 1 Axes>"
      ]
     },
     "metadata": {
      "needs_background": "light"
     },
     "output_type": "display_data"
    }
   ],
   "source": [
    "for column_tag in column_tag_list:\n",
    "    column = data[column_tag]\n",
    "    # rozstęp\n",
    "    r = column.max() - column.min()\n",
    "    d = (column.max() + column.min()) / 2\n",
    "    m = column.mean()\n",
    "    w = column.median()\n",
    "    n = len(column)\n",
    "    s = np.sqrt(sum((column[i] - m) ** 2 for i in range(n)) / n)\n",
    "\n",
    "    q = 3 * ((m - w) / s)\n",
    "\n",
    "    q1 = (column.min() / column.max()) > 0.1\n",
    "    q2 = abs(d - m) < s\n",
    "    q3 = 3 <= (r / s) <= 5\n",
    "    q4 = abs(q) < 2\n",
    "\n",
    "    if q1 and q2 and q3 and q4:\n",
    "        continue\n",
    "\n",
    "    plt.bar(, height=column)\n",
    "    break"
   ]
  }
 ],
 "metadata": {
  "interpreter": {
   "hash": "61c02be386a2ec5cc6932a6ae94371d3585affcac4de1da8cec0b16e952a435c"
  },
  "kernelspec": {
   "display_name": "Python 3.9.5 ('.env': venv)",
   "language": "python",
   "name": "python3"
  },
  "language_info": {
   "codemirror_mode": {
    "name": "ipython",
    "version": 3
   },
   "file_extension": ".py",
   "mimetype": "text/x-python",
   "name": "python",
   "nbconvert_exporter": "python",
   "pygments_lexer": "ipython3",
   "version": "3.9.5"
  },
  "orig_nbformat": 4
 },
 "nbformat": 4,
 "nbformat_minor": 2
}
