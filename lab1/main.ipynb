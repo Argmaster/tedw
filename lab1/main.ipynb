{
 "cells": [
  {
   "cell_type": "code",
   "execution_count": 1,
   "metadata": {},
   "outputs": [],
   "source": [
    "import numpy as np\n",
    "import pandas\n",
    "import scipy.stats as st\n",
    "from matplotlib import pyplot as plt\n",
    "from typing import List, Tuple\n",
    "\n",
    "# lets assume this code requires Python 3.6+ to run.\n"
   ]
  },
  {
   "cell_type": "code",
   "execution_count": 2,
   "metadata": {},
   "outputs": [
    {
     "name": "stderr",
     "output_type": "stream",
     "text": [
      "/home/argmaster/Documents/dev/2022/sem2/tedw/.env/lib/python3.9/site-packages/openpyxl/worksheet/_reader.py:312: UserWarning: Unknown extension is not supported and will be removed\n",
      "  warn(msg)\n"
     ]
    }
   ],
   "source": [
    "data = pandas.read_excel(\"dane_2020-2021.xlsx\")\n",
    "column_tag_list = [f\"X{i}\" for i in range(1, 11)]"
   ]
  },
  {
   "cell_type": "code",
   "execution_count": 3,
   "metadata": {},
   "outputs": [],
   "source": [
    "def bucketize(\n",
    "    data: List[float], round_to: int = 3\n",
    ") -> Tuple[List[str], List[float]]:\n",
    "    max_val = max(data)\n",
    "    min_val = min(data)\n",
    "    print(max_val)\n",
    "    print(min_val)\n",
    "    bucket_count = len(data) // 4\n",
    "    span = abs(max_val - min_val)\n",
    "    bucket_size = span / bucket_count\n",
    "    buckets = {}\n",
    "\n",
    "    assert bucket_count > 0, \"Bucket count have to be > 0, got: {bucket_count}\"\n",
    "\n",
    "    for i in range(bucket_count):\n",
    "        bucket_min = min_val + i * bucket_size\n",
    "        bucket_max = min_val + (i + 1) * bucket_size\n",
    "        buckets[bucket_min, bucket_max] = []\n",
    "    else:\n",
    "        last_bucket = buckets[bucket_min, bucket_max]\n",
    "\n",
    "    for value in data:\n",
    "        # small faux-pass here: order is not guaranteed on every runtime environment\n",
    "        # however with CPython 3.6+ dictionary keeps order of insertions.\n",
    "        # MAY be a problem with Jython or PyPy or older CPython versions\n",
    "        for (bucket_min, bucket_max), bucket in buckets.items():\n",
    "            if bucket_min <= value <= bucket_max:\n",
    "                bucket.append(value)\n",
    "                break\n",
    "        else:\n",
    "            last_bucket.append(value)\n",
    "    labels = []\n",
    "    values = []\n",
    "    for k, v in buckets.items():\n",
    "        labels.append(f\"<{round(k[0], round_to)}; {round(k[1], round_to)})\")\n",
    "        values.append(v)\n",
    "    return labels, values\n"
   ]
  },
  {
   "cell_type": "code",
   "execution_count": 4,
   "metadata": {},
   "outputs": [
    {
     "name": "stdout",
     "output_type": "stream",
     "text": [
      "0.7889048845311619\n",
      "0.48557743865949826\n"
     ]
    },
    {
     "data": {
      "image/png": "[encoded data removed]",
      "text/plain": [
       "<Figure size 1200x600 with 1 Axes>"
      ]
     },
     "metadata": {
      "needs_background": "light"
     },
     "output_type": "display_data"
    }
   ],
   "source": [
    "for column_tag in column_tag_list:\n",
    "    column = data[column_tag]\n",
    "    # rozstęp\n",
    "    r = column.max() - column.min()\n",
    "    d = (column.max() + column.min()) / 2\n",
    "    m = column.mean()\n",
    "    w = column.median()\n",
    "    n = len(column)\n",
    "    s = np.sqrt(sum((column[i] - m) ** 2 for i in range(n)) / n)\n",
    "\n",
    "    q = 3 * ((m - w) / s)\n",
    "\n",
    "    q1 = (column.min() / column.max()) > 0.1\n",
    "    q2 = abs(d - m) < s\n",
    "    q3 = 3 <= (r / s) <= 5\n",
    "    q4 = abs(q) < 2\n",
    "\n",
    "    if q1 and q2 and q3 and q4:\n",
    "        continue\n",
    "\n",
    "    labels, values = bucketize(column)\n",
    "    Ys = np.arange(len(labels))\n",
    "    plt.figure(figsize=(12, 6), dpi=100)\n",
    "    plt.bar(Ys, height=[len(v) for v in values])\n",
    "    plt.xticks(Ys, labels)\n",
    "    plt.title(column_tag)\n",
    "    break\n",
    "\n"
   ]
  }
 ],
 "metadata": {
  "interpreter": {
   "hash": "61c02be386a2ec5cc6932a6ae94371d3585affcac4de1da8cec0b16e952a435c"
  },
  "kernelspec": {
   "display_name": "Python 3.9.5 ('.env': venv)",
   "language": "python",
   "name": "python3"
  },
  "language_info": {
   "codemirror_mode": {
    "name": "ipython",
    "version": 3
   },
   "file_extension": ".py",
   "mimetype": "text/x-python",
   "name": "python",
   "nbconvert_exporter": "python",
   "pygments_lexer": "ipython3",
   "version": "3.9.5"
  },
  "orig_nbformat": 4
 },
 "nbformat": 4,
 "nbformat_minor": 2
}
